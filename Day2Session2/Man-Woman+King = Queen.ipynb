{
 "cells": [
  {
   "cell_type": "code",
   "execution_count": 2,
   "metadata": {},
   "outputs": [],
   "source": [
    "import gensim.models.word2vec as w2v\n",
    "brand_new_model = w2v.Word2Vec.load(\"trained/trained_model\")"
   ]
  },
  {
   "cell_type": "code",
   "execution_count": 6,
   "metadata": {},
   "outputs": [],
   "source": [
    "vector = brand_new_model['woman'] - brand_new_model['man'] + brand_new_model['king']"
   ]
  },
  {
   "cell_type": "code",
   "execution_count": 7,
   "metadata": {},
   "outputs": [
    {
     "data": {
      "text/plain": [
       "[(u'king', 0.7275263667106628),\n",
       " (u'queen', 0.5778441429138184),\n",
       " (u'princess', 0.5520339012145996),\n",
       " (u'woman', 0.544281005859375),\n",
       " (u'Dalla', 0.4944070279598236),\n",
       " (u'Margaery', 0.4852672219276428),\n",
       " (u'loving', 0.48111334443092346),\n",
       " (u'Shireen', 0.4762699604034424),\n",
       " (u'royal', 0.47374430298805237),\n",
       " (u'khaleesi', 0.4688704013824463)]"
      ]
     },
     "execution_count": 7,
     "metadata": {},
     "output_type": "execute_result"
    }
   ],
   "source": [
    "brand_new_model.similar_by_vector(vector)"
   ]
  },
  {
   "cell_type": "code",
   "execution_count": null,
   "metadata": {},
   "outputs": [],
   "source": []
  }
 ],
 "metadata": {
  "kernelspec": {
   "display_name": "Python 2",
   "language": "python",
   "name": "python2"
  },
  "language_info": {
   "codemirror_mode": {
    "name": "ipython",
    "version": 2
   },
   "file_extension": ".py",
   "mimetype": "text/x-python",
   "name": "python",
   "nbconvert_exporter": "python",
   "pygments_lexer": "ipython2",
   "version": "2.7.13"
  }
 },
 "nbformat": 4,
 "nbformat_minor": 2
}
